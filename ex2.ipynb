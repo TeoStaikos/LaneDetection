{
 "cells": [
  {
   "cell_type": "code",
   "execution_count": 22,
   "metadata": {},
   "outputs": [],
   "source": [
    "import numpy as np\n",
    "import matplotlib.pyplot as plt\n",
    "import cv2\n",
    "import skimage as sk\n"
   ]
  },
  {
   "cell_type": "code",
   "execution_count": 23,
   "metadata": {},
   "outputs": [],
   "source": [
    "def rgb2gray(image):\n",
    "    return cv2.cvtColor(image, cv2.COLOR_RGB2GRAY)\n",
    "\n",
    "\n",
    "def gauss(image):\n",
    "    return cv2.GaussianBlur(image, (5, 5), 0)\n",
    "\n",
    "\n",
    "def canny_edges(image):\n",
    "    edges = cv2.Canny(image, 50, 150)\n",
    "    return edges\n",
    "\n",
    "\n",
    "def hor_lines(edges_image):\n",
    "\n",
    "    kernel = np.array([[-1, -1, -1], [2, 2, 2], [-1, -1, -1]])\n",
    "\n",
    "    output = cv2.filter2D(edges_image, -1, kernel)\n",
    "    return output\n",
    "\n",
    "\n",
    "def sin_scale(arr):\n",
    "\n",
    "    N = len(arr)\n",
    "    x = np.linspace(0, np.pi, N)\n",
    "    scaler = np.sin(x)\n",
    "    scaled = np.multiply(arr, scaler)\n",
    "\n",
    "    return scaled\n",
    "\n",
    "\n",
    "def rowsums(edges_im):\n",
    "    rowsums = list()\n",
    "    for row in edges_im:\n",
    "        rowsums.append(np.sum(row))\n",
    "    return rowsums\n",
    "\n",
    "\n",
    "def scaled_rowsums(edges_im):\n",
    "    return sin_scale(rowsums(edges_im))\n",
    "\n",
    "\n",
    "def find_ROI_border(frame):\n",
    "\n",
    "    gray = rgb2gray(frame)\n",
    "    canny = canny_edges(gray)\n",
    "    hor_edges = hor_lines(canny)\n",
    "    top_border = np.argmax(scaled_rowsums(hor_edges))\n",
    "\n",
    "    return top_border\n",
    "\n",
    "\n",
    "def display_with_border(frame, border):\n",
    "\n",
    "    with_line = cv2.line(np.copy(frame), (0, border),\n",
    "                         (703, border), (255, 0, 0), 1)\n",
    "    cv2.imshow('hey', cop)\n",
    "    cv2.waitKey(0)\n",
    "    cv2.destroyAllWindows()\n",
    "\n",
    "\n",
    "def cut_border(frame, border):\n",
    "    copy = np.copy(frame)\n",
    "    copy = copy[:][border+1:][:]\n",
    "    return copy\n"
   ]
  },
  {
   "cell_type": "code",
   "execution_count": 24,
   "metadata": {},
   "outputs": [],
   "source": [
    "def add_gaussian(image):\n",
    "    scaled_im = frame/255.0\n",
    "    return sk.util.random_noise(scaled_im, mode='gaussian', clip=True)\n",
    "\n",
    "\n",
    "def add_sp(image):\n",
    "    scaled_im = frame/255.0\n",
    "    sk.util.random_noise(scaled_im, mode='s&p')\n"
   ]
  },
  {
   "cell_type": "code",
   "execution_count": 25,
   "metadata": {},
   "outputs": [],
   "source": [
    "cap = cv2.VideoCapture('april21.avi')\n",
    "cap.set(cv2.CAP_PROP_POS_FRAMES, 150)\n",
    "ret, frame = cap.read()\n"
   ]
  },
  {
   "cell_type": "code",
   "execution_count": 26,
   "metadata": {},
   "outputs": [],
   "source": [
    "ind = find_ROI_border(frame)\n",
    "cop = cut_border(frame, ind)\n"
   ]
  },
  {
   "cell_type": "code",
   "execution_count": 70,
   "metadata": {},
   "outputs": [],
   "source": [
    "hsv = cv2.cvtColor(cop, cv2.COLOR_RGB2HSV)\n",
    "# define range of white color in HSV\n",
    "# change it according to your need !\n",
    "lower_white = np.array([0, 0, 180], dtype=np.uint8)\n",
    "upper_white = np.array([172, 111, 255], dtype=np.uint8)\n",
    "\n",
    "# Threshold the HSV image to get only white colors\n",
    "mask = cv2.inRange(hsv, lower_white, upper_white)\n",
    "# Bitwise-AND mask and original image\n",
    "res = cv2.bitwise_and(cop, cop, mask=mask)\n",
    "\n",
    "cv2.imshow('frame', frame)\n",
    "cv2.imshow('mask', mask)\n",
    "cv2.imshow('res', res)\n",
    "cv2.waitKey(0)\n",
    "cv2.destroyAllWindows()\n"
   ]
  },
  {
   "cell_type": "code",
   "execution_count": null,
   "metadata": {},
   "outputs": [],
   "source": []
  },
  {
   "cell_type": "code",
   "execution_count": 28,
   "metadata": {},
   "outputs": [],
   "source": [
    "\n",
    "# YCrCb = cv2.cvtColor(cop, cv2.COLOR_RGB2YCR_CB)\n",
    "# HLSc = cv2.cvtColor(cop, cv2.COLOR_RGB2HLS)\n",
    "# cd = YCrCb[:, :, 1]\n",
    "# m = np.mean(cd)\n",
    "# indexes = cd < 0.9*m\n",
    "\n",
    "\n",
    "# cd1 = HSLc[:,:,2]\n",
    "# m1 = np.mean(cd1)\n",
    "# indexes1 = cd1 > 1.5*m1\n",
    "\n",
    "# seg1 = rgb2gray(cop)\n",
    "# seg1[indexes1] = 255\n",
    "# seg1[np.bitwise_not(indexes1)] = 0\n",
    "\n",
    "# cv2.imshow('hey', seg1)\n",
    "# cv2.waitKey(0)\n",
    "# cv2.destroyAllWindows()"
   ]
  },
  {
   "cell_type": "code",
   "execution_count": 29,
   "metadata": {},
   "outputs": [],
   "source": [
    "# seg = rgb2gray(cop)\n",
    "# seg[indexes] = 255\n",
    "# seg[np.bitwise_not(indexes)] = 0\n",
    "\n",
    "# cv2.imshow('hey', seg)\n",
    "# cv2.waitKey(0)\n",
    "# cv2.destroyAllWindows()\n"
   ]
  },
  {
   "cell_type": "code",
   "execution_count": 71,
   "metadata": {},
   "outputs": [],
   "source": [
    "hough_lines = cv2.HoughLinesP(\n",
    "    mask, rho=1, theta=1*np.pi/180, threshold=50, minLineLength=100, maxLineGap=50)\n",
    "line_im = np.copy(cop)\n",
    "for line in hough_lines:\n",
    "    line = line[0][:]\n",
    "    pt1 = (line[0], line[1])\n",
    "    pt2 = (line[2], line[3])\n",
    "    cv2.line(line_im, pt1, pt2, (0, 0, 255), 2)\n",
    "\n",
    "\n",
    "cv2.imshow('hey', line_im)\n",
    "cv2.waitKey(0)\n",
    "cv2.destroyAllWindows()\n"
   ]
  }
 ],
 "metadata": {
  "kernelspec": {
   "display_name": "Python 3.10.7 64-bit",
   "language": "python",
   "name": "python3"
  },
  "language_info": {
   "codemirror_mode": {
    "name": "ipython",
    "version": 3
   },
   "file_extension": ".py",
   "mimetype": "text/x-python",
   "name": "python",
   "nbconvert_exporter": "python",
   "pygments_lexer": "ipython3",
   "version": "3.10.7"
  },
  "orig_nbformat": 4,
  "vscode": {
   "interpreter": {
    "hash": "453c421902d0240f2fed5ccf49875f9db76734e1a15a778d18d7f4de20d91c77"
   }
  }
 },
 "nbformat": 4,
 "nbformat_minor": 2
}
