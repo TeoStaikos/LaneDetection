{
 "cells": [
  {
   "cell_type": "code",
   "execution_count": null,
   "metadata": {},
   "outputs": [],
   "source": [
    "import numpy as np\n",
    "import matplotlib.pyplot as plt\n",
    "import cv2\n"
   ]
  },
  {
   "cell_type": "code",
   "execution_count": null,
   "metadata": {},
   "outputs": [],
   "source": [
    "def gray(image):\n",
    "    return cv2.cvtColor(image, cv2.COLOR_RGB2GRAY)\n",
    "\n",
    "\n",
    "def gauss(image):\n",
    "    return cv2.GaussianBlur(image, (5, 5), 0)\n",
    "\n",
    "\n",
    "def canny(image):\n",
    "    edges = cv2.Canny(image, 50, 150)\n",
    "    return edges\n",
    "\n",
    "\n",
    "def hor_lines(edges_image):\n",
    "\n",
    "    kernel = np.array([[-1, -1, -1], [2, 2, 2], [-1, -1, -1]])\n",
    "\n",
    "    output = cv2.filter2D(edges_image, -1, kernel)\n",
    "    return output\n",
    "\n",
    "\n",
    "def sin_scale(arr):\n",
    "\n",
    "    N = len(arr)\n",
    "    x = np.linspace(0, np.pi, N)\n",
    "    scaler = np.sin(x)\n",
    "    scaled = np.multiply(arr, scaler)\n",
    "\n",
    "    return scaled\n",
    "\n",
    "\n",
    "def rowsums(edges_im):\n",
    "    rowsums = list()\n",
    "    for row in edges_im:\n",
    "        rowsums.append(np.sum(row))\n",
    "    return rowsums\n",
    "\n",
    "\n",
    "def scaled_rowsums(edges_im):\n",
    "    return sin_scale(rowsums(edges_im))\n",
    "    \n"
   ]
  },
  {
   "cell_type": "code",
   "execution_count": null,
   "metadata": {},
   "outputs": [],
   "source": [
    "cap = cv2.VideoCapture('april21.avi')\n",
    "cap.set(cv2.CAP_PROP_POS_FRAMES, 249)\n",
    "\n",
    "ret, frame = cap.read()\n",
    "\n",
    "gray = gray(frame)\n"
   ]
  },
  {
   "cell_type": "code",
   "execution_count": null,
   "metadata": {},
   "outputs": [],
   "source": [
    "canny = canny(gray)\n",
    "hor_edges = hor_lines(canny)\n"
   ]
  },
  {
   "cell_type": "code",
   "execution_count": null,
   "metadata": {},
   "outputs": [],
   "source": [
    "plt.subplot(2, 1, 1)\n",
    "plt.plot(rowsums(hor_edges))\n",
    "plt.subplot(2, 1, 2)\n",
    "plt.plot(scaled_rowsums(hor_edges))\n",
    "\n",
    "ind = np.argmax(scaled_rowsums(hor_edges))\n"
   ]
  },
  {
   "cell_type": "code",
   "execution_count": null,
   "metadata": {},
   "outputs": [],
   "source": [
    "with_line = cv2.line(frame, (0, ind), (703, ind), (255, 0, 0), 1)\n",
    "cv2.imshow('hey', with_line)\n",
    "cv2.waitKey(0)\n",
    "cv2.destroyAllWindows()\n"
   ]
  }
 ],
 "metadata": {
  "kernelspec": {
   "display_name": "Python 3.10.7 64-bit",
   "language": "python",
   "name": "python3"
  },
  "language_info": {
   "codemirror_mode": {
    "name": "ipython",
    "version": 3
   },
   "file_extension": ".py",
   "mimetype": "text/x-python",
   "name": "python",
   "nbconvert_exporter": "python",
   "pygments_lexer": "ipython3",
   "version": "3.10.7"
  },
  "orig_nbformat": 4,
  "vscode": {
   "interpreter": {
    "hash": "453c421902d0240f2fed5ccf49875f9db76734e1a15a778d18d7f4de20d91c77"
   }
  }
 },
 "nbformat": 4,
 "nbformat_minor": 2
}
